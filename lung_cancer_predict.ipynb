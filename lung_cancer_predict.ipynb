{
 "cells": [
  {
   "cell_type": "code",
   "execution_count": 1,
   "id": "8e3bdbcb-67c9-4adc-a7d0-db5790e86d4e",
   "metadata": {},
   "outputs": [],
   "source": [
    "import pandas as pd\n",
    "import numpy as np\n",
    "import seaborn as sns"
   ]
  },
  {
   "cell_type": "code",
   "execution_count": 2,
   "id": "58ef2522-9afe-46a8-ab4a-5709b2057f44",
   "metadata": {},
   "outputs": [],
   "source": [
    "data = pd.read_csv(\"survey_lung_cancer.csv\")"
   ]
  },
  {
   "cell_type": "code",
   "execution_count": 3,
   "id": "2b371a90-5599-4816-80f4-23ee6a932332",
   "metadata": {},
   "outputs": [
    {
     "data": {
      "text/html": [
       "<div>\n",
       "<style scoped>\n",
       "    .dataframe tbody tr th:only-of-type {\n",
       "        vertical-align: middle;\n",
       "    }\n",
       "\n",
       "    .dataframe tbody tr th {\n",
       "        vertical-align: top;\n",
       "    }\n",
       "\n",
       "    .dataframe thead th {\n",
       "        text-align: right;\n",
       "    }\n",
       "</style>\n",
       "<table border=\"1\" class=\"dataframe\">\n",
       "  <thead>\n",
       "    <tr style=\"text-align: right;\">\n",
       "      <th></th>\n",
       "      <th>GENDER</th>\n",
       "      <th>AGE</th>\n",
       "      <th>SMOKING</th>\n",
       "      <th>YELLOW_FINGERS</th>\n",
       "      <th>ANXIETY</th>\n",
       "      <th>PEER_PRESSURE</th>\n",
       "      <th>CHRONIC DISEASE</th>\n",
       "      <th>FATIGUE</th>\n",
       "      <th>ALLERGY</th>\n",
       "      <th>WHEEZING</th>\n",
       "      <th>ALCOHOL CONSUMING</th>\n",
       "      <th>COUGHING</th>\n",
       "      <th>SHORTNESS OF BREATH</th>\n",
       "      <th>SWALLOWING DIFFICULTY</th>\n",
       "      <th>CHEST PAIN</th>\n",
       "      <th>LUNG_CANCER</th>\n",
       "    </tr>\n",
       "  </thead>\n",
       "  <tbody>\n",
       "    <tr>\n",
       "      <th>0</th>\n",
       "      <td>M</td>\n",
       "      <td>69</td>\n",
       "      <td>1</td>\n",
       "      <td>2</td>\n",
       "      <td>2</td>\n",
       "      <td>1</td>\n",
       "      <td>1</td>\n",
       "      <td>2</td>\n",
       "      <td>1</td>\n",
       "      <td>2</td>\n",
       "      <td>2</td>\n",
       "      <td>2</td>\n",
       "      <td>2</td>\n",
       "      <td>2</td>\n",
       "      <td>2</td>\n",
       "      <td>YES</td>\n",
       "    </tr>\n",
       "    <tr>\n",
       "      <th>1</th>\n",
       "      <td>M</td>\n",
       "      <td>74</td>\n",
       "      <td>2</td>\n",
       "      <td>1</td>\n",
       "      <td>1</td>\n",
       "      <td>1</td>\n",
       "      <td>2</td>\n",
       "      <td>2</td>\n",
       "      <td>2</td>\n",
       "      <td>1</td>\n",
       "      <td>1</td>\n",
       "      <td>1</td>\n",
       "      <td>2</td>\n",
       "      <td>2</td>\n",
       "      <td>2</td>\n",
       "      <td>YES</td>\n",
       "    </tr>\n",
       "    <tr>\n",
       "      <th>2</th>\n",
       "      <td>F</td>\n",
       "      <td>59</td>\n",
       "      <td>1</td>\n",
       "      <td>1</td>\n",
       "      <td>1</td>\n",
       "      <td>2</td>\n",
       "      <td>1</td>\n",
       "      <td>2</td>\n",
       "      <td>1</td>\n",
       "      <td>2</td>\n",
       "      <td>1</td>\n",
       "      <td>2</td>\n",
       "      <td>2</td>\n",
       "      <td>1</td>\n",
       "      <td>2</td>\n",
       "      <td>NO</td>\n",
       "    </tr>\n",
       "    <tr>\n",
       "      <th>3</th>\n",
       "      <td>M</td>\n",
       "      <td>63</td>\n",
       "      <td>2</td>\n",
       "      <td>2</td>\n",
       "      <td>2</td>\n",
       "      <td>1</td>\n",
       "      <td>1</td>\n",
       "      <td>1</td>\n",
       "      <td>1</td>\n",
       "      <td>1</td>\n",
       "      <td>2</td>\n",
       "      <td>1</td>\n",
       "      <td>1</td>\n",
       "      <td>2</td>\n",
       "      <td>2</td>\n",
       "      <td>NO</td>\n",
       "    </tr>\n",
       "    <tr>\n",
       "      <th>4</th>\n",
       "      <td>F</td>\n",
       "      <td>63</td>\n",
       "      <td>1</td>\n",
       "      <td>2</td>\n",
       "      <td>1</td>\n",
       "      <td>1</td>\n",
       "      <td>1</td>\n",
       "      <td>1</td>\n",
       "      <td>1</td>\n",
       "      <td>2</td>\n",
       "      <td>1</td>\n",
       "      <td>2</td>\n",
       "      <td>2</td>\n",
       "      <td>1</td>\n",
       "      <td>1</td>\n",
       "      <td>NO</td>\n",
       "    </tr>\n",
       "    <tr>\n",
       "      <th>...</th>\n",
       "      <td>...</td>\n",
       "      <td>...</td>\n",
       "      <td>...</td>\n",
       "      <td>...</td>\n",
       "      <td>...</td>\n",
       "      <td>...</td>\n",
       "      <td>...</td>\n",
       "      <td>...</td>\n",
       "      <td>...</td>\n",
       "      <td>...</td>\n",
       "      <td>...</td>\n",
       "      <td>...</td>\n",
       "      <td>...</td>\n",
       "      <td>...</td>\n",
       "      <td>...</td>\n",
       "      <td>...</td>\n",
       "    </tr>\n",
       "    <tr>\n",
       "      <th>304</th>\n",
       "      <td>F</td>\n",
       "      <td>56</td>\n",
       "      <td>1</td>\n",
       "      <td>1</td>\n",
       "      <td>1</td>\n",
       "      <td>2</td>\n",
       "      <td>2</td>\n",
       "      <td>2</td>\n",
       "      <td>1</td>\n",
       "      <td>1</td>\n",
       "      <td>2</td>\n",
       "      <td>2</td>\n",
       "      <td>2</td>\n",
       "      <td>2</td>\n",
       "      <td>1</td>\n",
       "      <td>YES</td>\n",
       "    </tr>\n",
       "    <tr>\n",
       "      <th>305</th>\n",
       "      <td>M</td>\n",
       "      <td>70</td>\n",
       "      <td>2</td>\n",
       "      <td>1</td>\n",
       "      <td>1</td>\n",
       "      <td>1</td>\n",
       "      <td>1</td>\n",
       "      <td>2</td>\n",
       "      <td>2</td>\n",
       "      <td>2</td>\n",
       "      <td>2</td>\n",
       "      <td>2</td>\n",
       "      <td>2</td>\n",
       "      <td>1</td>\n",
       "      <td>2</td>\n",
       "      <td>YES</td>\n",
       "    </tr>\n",
       "    <tr>\n",
       "      <th>306</th>\n",
       "      <td>M</td>\n",
       "      <td>58</td>\n",
       "      <td>2</td>\n",
       "      <td>1</td>\n",
       "      <td>1</td>\n",
       "      <td>1</td>\n",
       "      <td>1</td>\n",
       "      <td>1</td>\n",
       "      <td>2</td>\n",
       "      <td>2</td>\n",
       "      <td>2</td>\n",
       "      <td>2</td>\n",
       "      <td>1</td>\n",
       "      <td>1</td>\n",
       "      <td>2</td>\n",
       "      <td>YES</td>\n",
       "    </tr>\n",
       "    <tr>\n",
       "      <th>307</th>\n",
       "      <td>M</td>\n",
       "      <td>67</td>\n",
       "      <td>2</td>\n",
       "      <td>1</td>\n",
       "      <td>2</td>\n",
       "      <td>1</td>\n",
       "      <td>1</td>\n",
       "      <td>2</td>\n",
       "      <td>2</td>\n",
       "      <td>1</td>\n",
       "      <td>2</td>\n",
       "      <td>2</td>\n",
       "      <td>2</td>\n",
       "      <td>1</td>\n",
       "      <td>2</td>\n",
       "      <td>YES</td>\n",
       "    </tr>\n",
       "    <tr>\n",
       "      <th>308</th>\n",
       "      <td>M</td>\n",
       "      <td>62</td>\n",
       "      <td>1</td>\n",
       "      <td>1</td>\n",
       "      <td>1</td>\n",
       "      <td>2</td>\n",
       "      <td>1</td>\n",
       "      <td>2</td>\n",
       "      <td>2</td>\n",
       "      <td>2</td>\n",
       "      <td>2</td>\n",
       "      <td>1</td>\n",
       "      <td>1</td>\n",
       "      <td>2</td>\n",
       "      <td>1</td>\n",
       "      <td>YES</td>\n",
       "    </tr>\n",
       "  </tbody>\n",
       "</table>\n",
       "<p>309 rows × 16 columns</p>\n",
       "</div>"
      ],
      "text/plain": [
       "    GENDER  AGE  SMOKING  YELLOW_FINGERS  ANXIETY  PEER_PRESSURE  \\\n",
       "0        M   69        1               2        2              1   \n",
       "1        M   74        2               1        1              1   \n",
       "2        F   59        1               1        1              2   \n",
       "3        M   63        2               2        2              1   \n",
       "4        F   63        1               2        1              1   \n",
       "..     ...  ...      ...             ...      ...            ...   \n",
       "304      F   56        1               1        1              2   \n",
       "305      M   70        2               1        1              1   \n",
       "306      M   58        2               1        1              1   \n",
       "307      M   67        2               1        2              1   \n",
       "308      M   62        1               1        1              2   \n",
       "\n",
       "     CHRONIC DISEASE  FATIGUE   ALLERGY   WHEEZING  ALCOHOL CONSUMING  \\\n",
       "0                  1         2         1         2                  2   \n",
       "1                  2         2         2         1                  1   \n",
       "2                  1         2         1         2                  1   \n",
       "3                  1         1         1         1                  2   \n",
       "4                  1         1         1         2                  1   \n",
       "..               ...       ...       ...       ...                ...   \n",
       "304                2         2         1         1                  2   \n",
       "305                1         2         2         2                  2   \n",
       "306                1         1         2         2                  2   \n",
       "307                1         2         2         1                  2   \n",
       "308                1         2         2         2                  2   \n",
       "\n",
       "     COUGHING  SHORTNESS OF BREATH  SWALLOWING DIFFICULTY  CHEST PAIN  \\\n",
       "0           2                    2                      2           2   \n",
       "1           1                    2                      2           2   \n",
       "2           2                    2                      1           2   \n",
       "3           1                    1                      2           2   \n",
       "4           2                    2                      1           1   \n",
       "..        ...                  ...                    ...         ...   \n",
       "304         2                    2                      2           1   \n",
       "305         2                    2                      1           2   \n",
       "306         2                    1                      1           2   \n",
       "307         2                    2                      1           2   \n",
       "308         1                    1                      2           1   \n",
       "\n",
       "    LUNG_CANCER  \n",
       "0           YES  \n",
       "1           YES  \n",
       "2            NO  \n",
       "3            NO  \n",
       "4            NO  \n",
       "..          ...  \n",
       "304         YES  \n",
       "305         YES  \n",
       "306         YES  \n",
       "307         YES  \n",
       "308         YES  \n",
       "\n",
       "[309 rows x 16 columns]"
      ]
     },
     "execution_count": 3,
     "metadata": {},
     "output_type": "execute_result"
    }
   ],
   "source": [
    "data"
   ]
  },
  {
   "cell_type": "code",
   "execution_count": 4,
   "id": "aaee4860-83dc-4069-9257-b883784ce15e",
   "metadata": {},
   "outputs": [
    {
     "data": {
      "text/plain": [
       "YES    270\n",
       "NO      39\n",
       "Name: LUNG_CANCER, dtype: int64"
      ]
     },
     "execution_count": 4,
     "metadata": {},
     "output_type": "execute_result"
    }
   ],
   "source": [
    "data[\"LUNG_CANCER\"].value_counts()"
   ]
  },
  {
   "cell_type": "code",
   "execution_count": 5,
   "id": "da5f08c8-99a2-429d-b175-5a70e54a7329",
   "metadata": {},
   "outputs": [
    {
     "data": {
      "text/plain": [
       "2    174\n",
       "1    135\n",
       "Name: SMOKING, dtype: int64"
      ]
     },
     "execution_count": 5,
     "metadata": {},
     "output_type": "execute_result"
    }
   ],
   "source": [
    "data[\"SMOKING\"].value_counts()"
   ]
  },
  {
   "cell_type": "code",
   "execution_count": 6,
   "id": "a0bd723c-b246-4766-a0fe-e0f63ecadecf",
   "metadata": {},
   "outputs": [
    {
     "data": {
      "text/plain": [
       "M    162\n",
       "F    147\n",
       "Name: GENDER, dtype: int64"
      ]
     },
     "execution_count": 6,
     "metadata": {},
     "output_type": "execute_result"
    }
   ],
   "source": [
    "data[\"GENDER\"].value_counts()"
   ]
  },
  {
   "cell_type": "code",
   "execution_count": 7,
   "id": "9c602697-ca72-4dd5-bc05-0e6dbe54a52e",
   "metadata": {},
   "outputs": [
    {
     "data": {
      "text/plain": [
       "LUNG_CANCER  GENDER\n",
       "NO           F          22\n",
       "             M          17\n",
       "YES          M         145\n",
       "             F         125\n",
       "Name: GENDER, dtype: int64"
      ]
     },
     "execution_count": 7,
     "metadata": {},
     "output_type": "execute_result"
    }
   ],
   "source": [
    "data.groupby(\"LUNG_CANCER\")[\"GENDER\"].value_counts()"
   ]
  },
  {
   "cell_type": "code",
   "execution_count": 8,
   "id": "80c1a80c-449b-4008-8ff3-3f6ac824c11b",
   "metadata": {},
   "outputs": [
    {
     "name": "stdout",
     "output_type": "stream",
     "text": [
      "<class 'pandas.core.frame.DataFrame'>\n",
      "RangeIndex: 309 entries, 0 to 308\n",
      "Data columns (total 16 columns):\n",
      " #   Column                 Non-Null Count  Dtype \n",
      "---  ------                 --------------  ----- \n",
      " 0   GENDER                 309 non-null    object\n",
      " 1   AGE                    309 non-null    int64 \n",
      " 2   SMOKING                309 non-null    int64 \n",
      " 3   YELLOW_FINGERS         309 non-null    int64 \n",
      " 4   ANXIETY                309 non-null    int64 \n",
      " 5   PEER_PRESSURE          309 non-null    int64 \n",
      " 6   CHRONIC DISEASE        309 non-null    int64 \n",
      " 7   FATIGUE                309 non-null    int64 \n",
      " 8   ALLERGY                309 non-null    int64 \n",
      " 9   WHEEZING               309 non-null    int64 \n",
      " 10  ALCOHOL CONSUMING      309 non-null    int64 \n",
      " 11  COUGHING               309 non-null    int64 \n",
      " 12  SHORTNESS OF BREATH    309 non-null    int64 \n",
      " 13  SWALLOWING DIFFICULTY  309 non-null    int64 \n",
      " 14  CHEST PAIN             309 non-null    int64 \n",
      " 15  LUNG_CANCER            309 non-null    object\n",
      "dtypes: int64(14), object(2)\n",
      "memory usage: 38.8+ KB\n"
     ]
    }
   ],
   "source": [
    "data.info()"
   ]
  },
  {
   "cell_type": "code",
   "execution_count": 9,
   "id": "79e147a3-966b-4384-8d1e-cb036cddca8e",
   "metadata": {},
   "outputs": [
    {
     "data": {
      "text/html": [
       "<div>\n",
       "<style scoped>\n",
       "    .dataframe tbody tr th:only-of-type {\n",
       "        vertical-align: middle;\n",
       "    }\n",
       "\n",
       "    .dataframe tbody tr th {\n",
       "        vertical-align: top;\n",
       "    }\n",
       "\n",
       "    .dataframe thead th {\n",
       "        text-align: right;\n",
       "    }\n",
       "</style>\n",
       "<table border=\"1\" class=\"dataframe\">\n",
       "  <thead>\n",
       "    <tr style=\"text-align: right;\">\n",
       "      <th></th>\n",
       "      <th>count</th>\n",
       "      <th>mean</th>\n",
       "      <th>std</th>\n",
       "      <th>min</th>\n",
       "      <th>25%</th>\n",
       "      <th>50%</th>\n",
       "      <th>75%</th>\n",
       "      <th>max</th>\n",
       "    </tr>\n",
       "  </thead>\n",
       "  <tbody>\n",
       "    <tr>\n",
       "      <th>AGE</th>\n",
       "      <td>309.0</td>\n",
       "      <td>62.673139</td>\n",
       "      <td>8.210301</td>\n",
       "      <td>21.0</td>\n",
       "      <td>57.0</td>\n",
       "      <td>62.0</td>\n",
       "      <td>69.0</td>\n",
       "      <td>87.0</td>\n",
       "    </tr>\n",
       "    <tr>\n",
       "      <th>SMOKING</th>\n",
       "      <td>309.0</td>\n",
       "      <td>1.563107</td>\n",
       "      <td>0.496806</td>\n",
       "      <td>1.0</td>\n",
       "      <td>1.0</td>\n",
       "      <td>2.0</td>\n",
       "      <td>2.0</td>\n",
       "      <td>2.0</td>\n",
       "    </tr>\n",
       "    <tr>\n",
       "      <th>YELLOW_FINGERS</th>\n",
       "      <td>309.0</td>\n",
       "      <td>1.569579</td>\n",
       "      <td>0.495938</td>\n",
       "      <td>1.0</td>\n",
       "      <td>1.0</td>\n",
       "      <td>2.0</td>\n",
       "      <td>2.0</td>\n",
       "      <td>2.0</td>\n",
       "    </tr>\n",
       "    <tr>\n",
       "      <th>ANXIETY</th>\n",
       "      <td>309.0</td>\n",
       "      <td>1.498382</td>\n",
       "      <td>0.500808</td>\n",
       "      <td>1.0</td>\n",
       "      <td>1.0</td>\n",
       "      <td>1.0</td>\n",
       "      <td>2.0</td>\n",
       "      <td>2.0</td>\n",
       "    </tr>\n",
       "    <tr>\n",
       "      <th>PEER_PRESSURE</th>\n",
       "      <td>309.0</td>\n",
       "      <td>1.501618</td>\n",
       "      <td>0.500808</td>\n",
       "      <td>1.0</td>\n",
       "      <td>1.0</td>\n",
       "      <td>2.0</td>\n",
       "      <td>2.0</td>\n",
       "      <td>2.0</td>\n",
       "    </tr>\n",
       "    <tr>\n",
       "      <th>CHRONIC DISEASE</th>\n",
       "      <td>309.0</td>\n",
       "      <td>1.504854</td>\n",
       "      <td>0.500787</td>\n",
       "      <td>1.0</td>\n",
       "      <td>1.0</td>\n",
       "      <td>2.0</td>\n",
       "      <td>2.0</td>\n",
       "      <td>2.0</td>\n",
       "    </tr>\n",
       "    <tr>\n",
       "      <th>FATIGUE</th>\n",
       "      <td>309.0</td>\n",
       "      <td>1.673139</td>\n",
       "      <td>0.469827</td>\n",
       "      <td>1.0</td>\n",
       "      <td>1.0</td>\n",
       "      <td>2.0</td>\n",
       "      <td>2.0</td>\n",
       "      <td>2.0</td>\n",
       "    </tr>\n",
       "    <tr>\n",
       "      <th>ALLERGY</th>\n",
       "      <td>309.0</td>\n",
       "      <td>1.556634</td>\n",
       "      <td>0.497588</td>\n",
       "      <td>1.0</td>\n",
       "      <td>1.0</td>\n",
       "      <td>2.0</td>\n",
       "      <td>2.0</td>\n",
       "      <td>2.0</td>\n",
       "    </tr>\n",
       "    <tr>\n",
       "      <th>WHEEZING</th>\n",
       "      <td>309.0</td>\n",
       "      <td>1.556634</td>\n",
       "      <td>0.497588</td>\n",
       "      <td>1.0</td>\n",
       "      <td>1.0</td>\n",
       "      <td>2.0</td>\n",
       "      <td>2.0</td>\n",
       "      <td>2.0</td>\n",
       "    </tr>\n",
       "    <tr>\n",
       "      <th>ALCOHOL CONSUMING</th>\n",
       "      <td>309.0</td>\n",
       "      <td>1.556634</td>\n",
       "      <td>0.497588</td>\n",
       "      <td>1.0</td>\n",
       "      <td>1.0</td>\n",
       "      <td>2.0</td>\n",
       "      <td>2.0</td>\n",
       "      <td>2.0</td>\n",
       "    </tr>\n",
       "    <tr>\n",
       "      <th>COUGHING</th>\n",
       "      <td>309.0</td>\n",
       "      <td>1.579288</td>\n",
       "      <td>0.494474</td>\n",
       "      <td>1.0</td>\n",
       "      <td>1.0</td>\n",
       "      <td>2.0</td>\n",
       "      <td>2.0</td>\n",
       "      <td>2.0</td>\n",
       "    </tr>\n",
       "    <tr>\n",
       "      <th>SHORTNESS OF BREATH</th>\n",
       "      <td>309.0</td>\n",
       "      <td>1.640777</td>\n",
       "      <td>0.480551</td>\n",
       "      <td>1.0</td>\n",
       "      <td>1.0</td>\n",
       "      <td>2.0</td>\n",
       "      <td>2.0</td>\n",
       "      <td>2.0</td>\n",
       "    </tr>\n",
       "    <tr>\n",
       "      <th>SWALLOWING DIFFICULTY</th>\n",
       "      <td>309.0</td>\n",
       "      <td>1.469256</td>\n",
       "      <td>0.499863</td>\n",
       "      <td>1.0</td>\n",
       "      <td>1.0</td>\n",
       "      <td>1.0</td>\n",
       "      <td>2.0</td>\n",
       "      <td>2.0</td>\n",
       "    </tr>\n",
       "    <tr>\n",
       "      <th>CHEST PAIN</th>\n",
       "      <td>309.0</td>\n",
       "      <td>1.556634</td>\n",
       "      <td>0.497588</td>\n",
       "      <td>1.0</td>\n",
       "      <td>1.0</td>\n",
       "      <td>2.0</td>\n",
       "      <td>2.0</td>\n",
       "      <td>2.0</td>\n",
       "    </tr>\n",
       "  </tbody>\n",
       "</table>\n",
       "</div>"
      ],
      "text/plain": [
       "                       count       mean       std   min   25%   50%   75%  \\\n",
       "AGE                    309.0  62.673139  8.210301  21.0  57.0  62.0  69.0   \n",
       "SMOKING                309.0   1.563107  0.496806   1.0   1.0   2.0   2.0   \n",
       "YELLOW_FINGERS         309.0   1.569579  0.495938   1.0   1.0   2.0   2.0   \n",
       "ANXIETY                309.0   1.498382  0.500808   1.0   1.0   1.0   2.0   \n",
       "PEER_PRESSURE          309.0   1.501618  0.500808   1.0   1.0   2.0   2.0   \n",
       "CHRONIC DISEASE        309.0   1.504854  0.500787   1.0   1.0   2.0   2.0   \n",
       "FATIGUE                309.0   1.673139  0.469827   1.0   1.0   2.0   2.0   \n",
       "ALLERGY                309.0   1.556634  0.497588   1.0   1.0   2.0   2.0   \n",
       "WHEEZING               309.0   1.556634  0.497588   1.0   1.0   2.0   2.0   \n",
       "ALCOHOL CONSUMING      309.0   1.556634  0.497588   1.0   1.0   2.0   2.0   \n",
       "COUGHING               309.0   1.579288  0.494474   1.0   1.0   2.0   2.0   \n",
       "SHORTNESS OF BREATH    309.0   1.640777  0.480551   1.0   1.0   2.0   2.0   \n",
       "SWALLOWING DIFFICULTY  309.0   1.469256  0.499863   1.0   1.0   1.0   2.0   \n",
       "CHEST PAIN             309.0   1.556634  0.497588   1.0   1.0   2.0   2.0   \n",
       "\n",
       "                        max  \n",
       "AGE                    87.0  \n",
       "SMOKING                 2.0  \n",
       "YELLOW_FINGERS          2.0  \n",
       "ANXIETY                 2.0  \n",
       "PEER_PRESSURE           2.0  \n",
       "CHRONIC DISEASE         2.0  \n",
       "FATIGUE                 2.0  \n",
       "ALLERGY                 2.0  \n",
       "WHEEZING                2.0  \n",
       "ALCOHOL CONSUMING       2.0  \n",
       "COUGHING                2.0  \n",
       "SHORTNESS OF BREATH     2.0  \n",
       "SWALLOWING DIFFICULTY   2.0  \n",
       "CHEST PAIN              2.0  "
      ]
     },
     "execution_count": 9,
     "metadata": {},
     "output_type": "execute_result"
    }
   ],
   "source": [
    "data.describe().T"
   ]
  },
  {
   "cell_type": "code",
   "execution_count": 10,
   "id": "892c90d3-a1ce-4e4d-a670-7dda8284da28",
   "metadata": {},
   "outputs": [
    {
     "data": {
      "text/plain": [
       "GENDER                   0\n",
       "AGE                      0\n",
       "SMOKING                  0\n",
       "YELLOW_FINGERS           0\n",
       "ANXIETY                  0\n",
       "PEER_PRESSURE            0\n",
       "CHRONIC DISEASE          0\n",
       "FATIGUE                  0\n",
       "ALLERGY                  0\n",
       "WHEEZING                 0\n",
       "ALCOHOL CONSUMING        0\n",
       "COUGHING                 0\n",
       "SHORTNESS OF BREATH      0\n",
       "SWALLOWING DIFFICULTY    0\n",
       "CHEST PAIN               0\n",
       "LUNG_CANCER              0\n",
       "dtype: int64"
      ]
     },
     "execution_count": 10,
     "metadata": {},
     "output_type": "execute_result"
    }
   ],
   "source": [
    "data.isnull().sum()"
   ]
  },
  {
   "cell_type": "code",
   "execution_count": 11,
   "id": "5bcb1289-fcfb-4055-9f0a-51d02a42d4bb",
   "metadata": {},
   "outputs": [
    {
     "data": {
      "image/png": "[encoded data removed]",
      "text/plain": [
       "<Figure size 360x360 with 1 Axes>"
      ]
     },
     "metadata": {
      "needs_background": "light"
     },
     "output_type": "display_data"
    }
   ],
   "source": [
    "sns.catplot(x = \"AGE\", y = \"LUNG_CANCER\", data = data);"
   ]
  },
  {
   "cell_type": "code",
   "execution_count": 12,
   "id": "0ed8e35d-a007-4dc4-88c8-53781e45cbc0",
   "metadata": {},
   "outputs": [
    {
     "data": {
      "image/png": "[encoded data removed]",
      "text/plain": [
       "<Figure size 432x288 with 1 Axes>"
      ]
     },
     "metadata": {
      "needs_background": "light"
     },
     "output_type": "display_data"
    }
   ],
   "source": [
    "sns.barplot(x = \"LUNG_CANCER\", y = \"AGE\", hue = \"SMOKING\", data = data);"
   ]
  },
  {
   "cell_type": "code",
   "execution_count": 13,
   "id": "4af1106c-0389-45f4-9b70-cc891adf6825",
   "metadata": {},
   "outputs": [
    {
     "data": {
      "image/png": "[encoded data removed]",
      "text/plain": [
       "<Figure size 432x288 with 1 Axes>"
      ]
     },
     "metadata": {
      "needs_background": "light"
     },
     "output_type": "display_data"
    }
   ],
   "source": [
    "sns.barplot(x = \"LUNG_CANCER\", y = \"CHEST PAIN\", data = data);"
   ]
  },
  {
   "cell_type": "code",
   "execution_count": 14,
   "id": "88d37910-f074-4474-aadb-a64aa5ac1999",
   "metadata": {},
   "outputs": [
    {
     "data": {
      "image/png": "[encoded data removed]",
      "text/plain": [
       "<Figure size 432x288 with 1 Axes>"
      ]
     },
     "metadata": {
      "needs_background": "light"
     },
     "output_type": "display_data"
    }
   ],
   "source": [
    "sns.barplot(x = \"LUNG_CANCER\", y = \"CHEST PAIN\", hue = \"COUGHING\", data = data);"
   ]
  },
  {
   "cell_type": "code",
   "execution_count": 15,
   "id": "377ae13b-5be8-4b22-a739-57462cc9fcb4",
   "metadata": {},
   "outputs": [
    {
     "data": {
      "image/png": "[encoded data removed]",
      "text/plain": [
       "<Figure size 432x288 with 1 Axes>"
      ]
     },
     "metadata": {
      "needs_background": "light"
     },
     "output_type": "display_data"
    }
   ],
   "source": [
    "sns.barplot(x = \"LUNG_CANCER\", y = \"WHEEZING\", data = data);"
   ]
  },
  {
   "cell_type": "code",
   "execution_count": 16,
   "id": "bdad1fa2-368f-4304-b291-62ef46cee2ba",
   "metadata": {},
   "outputs": [],
   "source": [
    "from sklearn.preprocessing import LabelEncoder\n",
    "\n",
    "lbe = LabelEncoder()"
   ]
  },
  {
   "cell_type": "code",
   "execution_count": 17,
   "id": "01ffc10d-c999-455a-815c-f3acfc5e9b23",
   "metadata": {},
   "outputs": [],
   "source": [
    "data[\"LUNG_CANCER\"] = lbe.fit_transform(data[\"LUNG_CANCER\"])"
   ]
  },
  {
   "cell_type": "code",
   "execution_count": 18,
   "id": "a32e2484-ee39-4e92-81c0-ef0eef1b2b80",
   "metadata": {},
   "outputs": [],
   "source": [
    "data[\"GENDER\"] = lbe.fit_transform(data[\"GENDER\"])"
   ]
  },
  {
   "cell_type": "code",
   "execution_count": 19,
   "id": "6748ba0b-3b51-44ac-b875-62e566b49453",
   "metadata": {},
   "outputs": [
    {
     "data": {
      "text/html": [
       "<div>\n",
       "<style scoped>\n",
       "    .dataframe tbody tr th:only-of-type {\n",
       "        vertical-align: middle;\n",
       "    }\n",
       "\n",
       "    .dataframe tbody tr th {\n",
       "        vertical-align: top;\n",
       "    }\n",
       "\n",
       "    .dataframe thead th {\n",
       "        text-align: right;\n",
       "    }\n",
       "</style>\n",
       "<table border=\"1\" class=\"dataframe\">\n",
       "  <thead>\n",
       "    <tr style=\"text-align: right;\">\n",
       "      <th></th>\n",
       "      <th>GENDER</th>\n",
       "      <th>AGE</th>\n",
       "      <th>SMOKING</th>\n",
       "      <th>YELLOW_FINGERS</th>\n",
       "      <th>ANXIETY</th>\n",
       "      <th>PEER_PRESSURE</th>\n",
       "      <th>CHRONIC DISEASE</th>\n",
       "      <th>FATIGUE</th>\n",
       "      <th>ALLERGY</th>\n",
       "      <th>WHEEZING</th>\n",
       "      <th>ALCOHOL CONSUMING</th>\n",
       "      <th>COUGHING</th>\n",
       "      <th>SHORTNESS OF BREATH</th>\n",
       "      <th>SWALLOWING DIFFICULTY</th>\n",
       "      <th>CHEST PAIN</th>\n",
       "      <th>LUNG_CANCER</th>\n",
       "    </tr>\n",
       "  </thead>\n",
       "  <tbody>\n",
       "    <tr>\n",
       "      <th>0</th>\n",
       "      <td>1</td>\n",
       "      <td>69</td>\n",
       "      <td>1</td>\n",
       "      <td>2</td>\n",
       "      <td>2</td>\n",
       "      <td>1</td>\n",
       "      <td>1</td>\n",
       "      <td>2</td>\n",
       "      <td>1</td>\n",
       "      <td>2</td>\n",
       "      <td>2</td>\n",
       "      <td>2</td>\n",
       "      <td>2</td>\n",
       "      <td>2</td>\n",
       "      <td>2</td>\n",
       "      <td>1</td>\n",
       "    </tr>\n",
       "    <tr>\n",
       "      <th>1</th>\n",
       "      <td>1</td>\n",
       "      <td>74</td>\n",
       "      <td>2</td>\n",
       "      <td>1</td>\n",
       "      <td>1</td>\n",
       "      <td>1</td>\n",
       "      <td>2</td>\n",
       "      <td>2</td>\n",
       "      <td>2</td>\n",
       "      <td>1</td>\n",
       "      <td>1</td>\n",
       "      <td>1</td>\n",
       "      <td>2</td>\n",
       "      <td>2</td>\n",
       "      <td>2</td>\n",
       "      <td>1</td>\n",
       "    </tr>\n",
       "    <tr>\n",
       "      <th>2</th>\n",
       "      <td>0</td>\n",
       "      <td>59</td>\n",
       "      <td>1</td>\n",
       "      <td>1</td>\n",
       "      <td>1</td>\n",
       "      <td>2</td>\n",
       "      <td>1</td>\n",
       "      <td>2</td>\n",
       "      <td>1</td>\n",
       "      <td>2</td>\n",
       "      <td>1</td>\n",
       "      <td>2</td>\n",
       "      <td>2</td>\n",
       "      <td>1</td>\n",
       "      <td>2</td>\n",
       "      <td>0</td>\n",
       "    </tr>\n",
       "    <tr>\n",
       "      <th>3</th>\n",
       "      <td>1</td>\n",
       "      <td>63</td>\n",
       "      <td>2</td>\n",
       "      <td>2</td>\n",
       "      <td>2</td>\n",
       "      <td>1</td>\n",
       "      <td>1</td>\n",
       "      <td>1</td>\n",
       "      <td>1</td>\n",
       "      <td>1</td>\n",
       "      <td>2</td>\n",
       "      <td>1</td>\n",
       "      <td>1</td>\n",
       "      <td>2</td>\n",
       "      <td>2</td>\n",
       "      <td>0</td>\n",
       "    </tr>\n",
       "    <tr>\n",
       "      <th>4</th>\n",
       "      <td>0</td>\n",
       "      <td>63</td>\n",
       "      <td>1</td>\n",
       "      <td>2</td>\n",
       "      <td>1</td>\n",
       "      <td>1</td>\n",
       "      <td>1</td>\n",
       "      <td>1</td>\n",
       "      <td>1</td>\n",
       "      <td>2</td>\n",
       "      <td>1</td>\n",
       "      <td>2</td>\n",
       "      <td>2</td>\n",
       "      <td>1</td>\n",
       "      <td>1</td>\n",
       "      <td>0</td>\n",
       "    </tr>\n",
       "    <tr>\n",
       "      <th>...</th>\n",
       "      <td>...</td>\n",
       "      <td>...</td>\n",
       "      <td>...</td>\n",
       "      <td>...</td>\n",
       "      <td>...</td>\n",
       "      <td>...</td>\n",
       "      <td>...</td>\n",
       "      <td>...</td>\n",
       "      <td>...</td>\n",
       "      <td>...</td>\n",
       "      <td>...</td>\n",
       "      <td>...</td>\n",
       "      <td>...</td>\n",
       "      <td>...</td>\n",
       "      <td>...</td>\n",
       "      <td>...</td>\n",
       "    </tr>\n",
       "    <tr>\n",
       "      <th>304</th>\n",
       "      <td>0</td>\n",
       "      <td>56</td>\n",
       "      <td>1</td>\n",
       "      <td>1</td>\n",
       "      <td>1</td>\n",
       "      <td>2</td>\n",
       "      <td>2</td>\n",
       "      <td>2</td>\n",
       "      <td>1</td>\n",
       "      <td>1</td>\n",
       "      <td>2</td>\n",
       "      <td>2</td>\n",
       "      <td>2</td>\n",
       "      <td>2</td>\n",
       "      <td>1</td>\n",
       "      <td>1</td>\n",
       "    </tr>\n",
       "    <tr>\n",
       "      <th>305</th>\n",
       "      <td>1</td>\n",
       "      <td>70</td>\n",
       "      <td>2</td>\n",
       "      <td>1</td>\n",
       "      <td>1</td>\n",
       "      <td>1</td>\n",
       "      <td>1</td>\n",
       "      <td>2</td>\n",
       "      <td>2</td>\n",
       "      <td>2</td>\n",
       "      <td>2</td>\n",
       "      <td>2</td>\n",
       "      <td>2</td>\n",
       "      <td>1</td>\n",
       "      <td>2</td>\n",
       "      <td>1</td>\n",
       "    </tr>\n",
       "    <tr>\n",
       "      <th>306</th>\n",
       "      <td>1</td>\n",
       "      <td>58</td>\n",
       "      <td>2</td>\n",
       "      <td>1</td>\n",
       "      <td>1</td>\n",
       "      <td>1</td>\n",
       "      <td>1</td>\n",
       "      <td>1</td>\n",
       "      <td>2</td>\n",
       "      <td>2</td>\n",
       "      <td>2</td>\n",
       "      <td>2</td>\n",
       "      <td>1</td>\n",
       "      <td>1</td>\n",
       "      <td>2</td>\n",
       "      <td>1</td>\n",
       "    </tr>\n",
       "    <tr>\n",
       "      <th>307</th>\n",
       "      <td>1</td>\n",
       "      <td>67</td>\n",
       "      <td>2</td>\n",
       "      <td>1</td>\n",
       "      <td>2</td>\n",
       "      <td>1</td>\n",
       "      <td>1</td>\n",
       "      <td>2</td>\n",
       "      <td>2</td>\n",
       "      <td>1</td>\n",
       "      <td>2</td>\n",
       "      <td>2</td>\n",
       "      <td>2</td>\n",
       "      <td>1</td>\n",
       "      <td>2</td>\n",
       "      <td>1</td>\n",
       "    </tr>\n",
       "    <tr>\n",
       "      <th>308</th>\n",
       "      <td>1</td>\n",
       "      <td>62</td>\n",
       "      <td>1</td>\n",
       "      <td>1</td>\n",
       "      <td>1</td>\n",
       "      <td>2</td>\n",
       "      <td>1</td>\n",
       "      <td>2</td>\n",
       "      <td>2</td>\n",
       "      <td>2</td>\n",
       "      <td>2</td>\n",
       "      <td>1</td>\n",
       "      <td>1</td>\n",
       "      <td>2</td>\n",
       "      <td>1</td>\n",
       "      <td>1</td>\n",
       "    </tr>\n",
       "  </tbody>\n",
       "</table>\n",
       "<p>309 rows × 16 columns</p>\n",
       "</div>"
      ],
      "text/plain": [
       "     GENDER  AGE  SMOKING  YELLOW_FINGERS  ANXIETY  PEER_PRESSURE  \\\n",
       "0         1   69        1               2        2              1   \n",
       "1         1   74        2               1        1              1   \n",
       "2         0   59        1               1        1              2   \n",
       "3         1   63        2               2        2              1   \n",
       "4         0   63        1               2        1              1   \n",
       "..      ...  ...      ...             ...      ...            ...   \n",
       "304       0   56        1               1        1              2   \n",
       "305       1   70        2               1        1              1   \n",
       "306       1   58        2               1        1              1   \n",
       "307       1   67        2               1        2              1   \n",
       "308       1   62        1               1        1              2   \n",
       "\n",
       "     CHRONIC DISEASE  FATIGUE   ALLERGY   WHEEZING  ALCOHOL CONSUMING  \\\n",
       "0                  1         2         1         2                  2   \n",
       "1                  2         2         2         1                  1   \n",
       "2                  1         2         1         2                  1   \n",
       "3                  1         1         1         1                  2   \n",
       "4                  1         1         1         2                  1   \n",
       "..               ...       ...       ...       ...                ...   \n",
       "304                2         2         1         1                  2   \n",
       "305                1         2         2         2                  2   \n",
       "306                1         1         2         2                  2   \n",
       "307                1         2         2         1                  2   \n",
       "308                1         2         2         2                  2   \n",
       "\n",
       "     COUGHING  SHORTNESS OF BREATH  SWALLOWING DIFFICULTY  CHEST PAIN  \\\n",
       "0           2                    2                      2           2   \n",
       "1           1                    2                      2           2   \n",
       "2           2                    2                      1           2   \n",
       "3           1                    1                      2           2   \n",
       "4           2                    2                      1           1   \n",
       "..        ...                  ...                    ...         ...   \n",
       "304         2                    2                      2           1   \n",
       "305         2                    2                      1           2   \n",
       "306         2                    1                      1           2   \n",
       "307         2                    2                      1           2   \n",
       "308         1                    1                      2           1   \n",
       "\n",
       "     LUNG_CANCER  \n",
       "0              1  \n",
       "1              1  \n",
       "2              0  \n",
       "3              0  \n",
       "4              0  \n",
       "..           ...  \n",
       "304            1  \n",
       "305            1  \n",
       "306            1  \n",
       "307            1  \n",
       "308            1  \n",
       "\n",
       "[309 rows x 16 columns]"
      ]
     },
     "execution_count": 19,
     "metadata": {},
     "output_type": "execute_result"
    }
   ],
   "source": [
    "data"
   ]
  },
  {
   "cell_type": "code",
   "execution_count": 20,
   "id": "7a8c51b8-575e-4e90-a05e-9e3ac879231b",
   "metadata": {},
   "outputs": [
    {
     "data": {
      "text/html": [
       "<div>\n",
       "<style scoped>\n",
       "    .dataframe tbody tr th:only-of-type {\n",
       "        vertical-align: middle;\n",
       "    }\n",
       "\n",
       "    .dataframe tbody tr th {\n",
       "        vertical-align: top;\n",
       "    }\n",
       "\n",
       "    .dataframe thead th {\n",
       "        text-align: right;\n",
       "    }\n",
       "</style>\n",
       "<table border=\"1\" class=\"dataframe\">\n",
       "  <thead>\n",
       "    <tr style=\"text-align: right;\">\n",
       "      <th></th>\n",
       "      <th>GENDER</th>\n",
       "      <th>AGE</th>\n",
       "      <th>SMOKING</th>\n",
       "      <th>YELLOW_FINGERS</th>\n",
       "      <th>ANXIETY</th>\n",
       "      <th>PEER_PRESSURE</th>\n",
       "      <th>CHRONIC DISEASE</th>\n",
       "      <th>FATIGUE</th>\n",
       "      <th>ALLERGY</th>\n",
       "      <th>WHEEZING</th>\n",
       "      <th>ALCOHOL CONSUMING</th>\n",
       "      <th>COUGHING</th>\n",
       "      <th>SHORTNESS OF BREATH</th>\n",
       "      <th>SWALLOWING DIFFICULTY</th>\n",
       "      <th>CHEST PAIN</th>\n",
       "      <th>LUNG_CANCER</th>\n",
       "    </tr>\n",
       "  </thead>\n",
       "  <tbody>\n",
       "    <tr>\n",
       "      <th>GENDER</th>\n",
       "      <td>1.000000</td>\n",
       "      <td>0.021306</td>\n",
       "      <td>0.036277</td>\n",
       "      <td>-0.212959</td>\n",
       "      <td>-0.152127</td>\n",
       "      <td>-0.275564</td>\n",
       "      <td>-0.204606</td>\n",
       "      <td>-0.083560</td>\n",
       "      <td>0.154251</td>\n",
       "      <td>0.141207</td>\n",
       "      <td>0.454268</td>\n",
       "      <td>0.133303</td>\n",
       "      <td>-0.064911</td>\n",
       "      <td>-0.078161</td>\n",
       "      <td>0.362958</td>\n",
       "      <td>0.067254</td>\n",
       "    </tr>\n",
       "    <tr>\n",
       "      <th>AGE</th>\n",
       "      <td>0.021306</td>\n",
       "      <td>1.000000</td>\n",
       "      <td>-0.084475</td>\n",
       "      <td>0.005205</td>\n",
       "      <td>0.053170</td>\n",
       "      <td>0.018685</td>\n",
       "      <td>-0.012642</td>\n",
       "      <td>0.012614</td>\n",
       "      <td>0.027990</td>\n",
       "      <td>0.055011</td>\n",
       "      <td>0.058985</td>\n",
       "      <td>0.169950</td>\n",
       "      <td>-0.017513</td>\n",
       "      <td>-0.001270</td>\n",
       "      <td>-0.018104</td>\n",
       "      <td>0.089465</td>\n",
       "    </tr>\n",
       "    <tr>\n",
       "      <th>SMOKING</th>\n",
       "      <td>0.036277</td>\n",
       "      <td>-0.084475</td>\n",
       "      <td>1.000000</td>\n",
       "      <td>-0.014585</td>\n",
       "      <td>0.160267</td>\n",
       "      <td>-0.042822</td>\n",
       "      <td>-0.141522</td>\n",
       "      <td>-0.029575</td>\n",
       "      <td>0.001913</td>\n",
       "      <td>-0.129426</td>\n",
       "      <td>-0.050623</td>\n",
       "      <td>-0.129471</td>\n",
       "      <td>0.061264</td>\n",
       "      <td>0.030718</td>\n",
       "      <td>0.120117</td>\n",
       "      <td>0.058179</td>\n",
       "    </tr>\n",
       "    <tr>\n",
       "      <th>YELLOW_FINGERS</th>\n",
       "      <td>-0.212959</td>\n",
       "      <td>0.005205</td>\n",
       "      <td>-0.014585</td>\n",
       "      <td>1.000000</td>\n",
       "      <td>0.565829</td>\n",
       "      <td>0.323083</td>\n",
       "      <td>0.041122</td>\n",
       "      <td>-0.118058</td>\n",
       "      <td>-0.144300</td>\n",
       "      <td>-0.078515</td>\n",
       "      <td>-0.289025</td>\n",
       "      <td>-0.012640</td>\n",
       "      <td>-0.105944</td>\n",
       "      <td>0.345904</td>\n",
       "      <td>-0.104829</td>\n",
       "      <td>0.181339</td>\n",
       "    </tr>\n",
       "    <tr>\n",
       "      <th>ANXIETY</th>\n",
       "      <td>-0.152127</td>\n",
       "      <td>0.053170</td>\n",
       "      <td>0.160267</td>\n",
       "      <td>0.565829</td>\n",
       "      <td>1.000000</td>\n",
       "      <td>0.216841</td>\n",
       "      <td>-0.009678</td>\n",
       "      <td>-0.188538</td>\n",
       "      <td>-0.165750</td>\n",
       "      <td>-0.191807</td>\n",
       "      <td>-0.165750</td>\n",
       "      <td>-0.225644</td>\n",
       "      <td>-0.144077</td>\n",
       "      <td>0.489403</td>\n",
       "      <td>-0.113634</td>\n",
       "      <td>0.144947</td>\n",
       "    </tr>\n",
       "    <tr>\n",
       "      <th>PEER_PRESSURE</th>\n",
       "      <td>-0.275564</td>\n",
       "      <td>0.018685</td>\n",
       "      <td>-0.042822</td>\n",
       "      <td>0.323083</td>\n",
       "      <td>0.216841</td>\n",
       "      <td>1.000000</td>\n",
       "      <td>0.048515</td>\n",
       "      <td>0.078148</td>\n",
       "      <td>-0.081800</td>\n",
       "      <td>-0.068771</td>\n",
       "      <td>-0.159973</td>\n",
       "      <td>-0.089019</td>\n",
       "      <td>-0.220175</td>\n",
       "      <td>0.366590</td>\n",
       "      <td>-0.094828</td>\n",
       "      <td>0.186388</td>\n",
       "    </tr>\n",
       "    <tr>\n",
       "      <th>CHRONIC DISEASE</th>\n",
       "      <td>-0.204606</td>\n",
       "      <td>-0.012642</td>\n",
       "      <td>-0.141522</td>\n",
       "      <td>0.041122</td>\n",
       "      <td>-0.009678</td>\n",
       "      <td>0.048515</td>\n",
       "      <td>1.000000</td>\n",
       "      <td>-0.110529</td>\n",
       "      <td>0.106386</td>\n",
       "      <td>-0.049967</td>\n",
       "      <td>0.002150</td>\n",
       "      <td>-0.175287</td>\n",
       "      <td>-0.026459</td>\n",
       "      <td>0.075176</td>\n",
       "      <td>-0.036938</td>\n",
       "      <td>0.110891</td>\n",
       "    </tr>\n",
       "    <tr>\n",
       "      <th>FATIGUE</th>\n",
       "      <td>-0.083560</td>\n",
       "      <td>0.012614</td>\n",
       "      <td>-0.029575</td>\n",
       "      <td>-0.118058</td>\n",
       "      <td>-0.188538</td>\n",
       "      <td>0.078148</td>\n",
       "      <td>-0.110529</td>\n",
       "      <td>1.000000</td>\n",
       "      <td>0.003056</td>\n",
       "      <td>0.141937</td>\n",
       "      <td>-0.191377</td>\n",
       "      <td>0.146856</td>\n",
       "      <td>0.441745</td>\n",
       "      <td>-0.132790</td>\n",
       "      <td>-0.010832</td>\n",
       "      <td>0.150673</td>\n",
       "    </tr>\n",
       "    <tr>\n",
       "      <th>ALLERGY</th>\n",
       "      <td>0.154251</td>\n",
       "      <td>0.027990</td>\n",
       "      <td>0.001913</td>\n",
       "      <td>-0.144300</td>\n",
       "      <td>-0.165750</td>\n",
       "      <td>-0.081800</td>\n",
       "      <td>0.106386</td>\n",
       "      <td>0.003056</td>\n",
       "      <td>1.000000</td>\n",
       "      <td>0.173867</td>\n",
       "      <td>0.344339</td>\n",
       "      <td>0.189524</td>\n",
       "      <td>-0.030056</td>\n",
       "      <td>-0.061508</td>\n",
       "      <td>0.239433</td>\n",
       "      <td>0.327766</td>\n",
       "    </tr>\n",
       "    <tr>\n",
       "      <th>WHEEZING</th>\n",
       "      <td>0.141207</td>\n",
       "      <td>0.055011</td>\n",
       "      <td>-0.129426</td>\n",
       "      <td>-0.078515</td>\n",
       "      <td>-0.191807</td>\n",
       "      <td>-0.068771</td>\n",
       "      <td>-0.049967</td>\n",
       "      <td>0.141937</td>\n",
       "      <td>0.173867</td>\n",
       "      <td>1.000000</td>\n",
       "      <td>0.265659</td>\n",
       "      <td>0.374265</td>\n",
       "      <td>0.037834</td>\n",
       "      <td>0.069027</td>\n",
       "      <td>0.147640</td>\n",
       "      <td>0.249300</td>\n",
       "    </tr>\n",
       "    <tr>\n",
       "      <th>ALCOHOL CONSUMING</th>\n",
       "      <td>0.454268</td>\n",
       "      <td>0.058985</td>\n",
       "      <td>-0.050623</td>\n",
       "      <td>-0.289025</td>\n",
       "      <td>-0.165750</td>\n",
       "      <td>-0.159973</td>\n",
       "      <td>0.002150</td>\n",
       "      <td>-0.191377</td>\n",
       "      <td>0.344339</td>\n",
       "      <td>0.265659</td>\n",
       "      <td>1.000000</td>\n",
       "      <td>0.202720</td>\n",
       "      <td>-0.179416</td>\n",
       "      <td>-0.009294</td>\n",
       "      <td>0.331226</td>\n",
       "      <td>0.288533</td>\n",
       "    </tr>\n",
       "    <tr>\n",
       "      <th>COUGHING</th>\n",
       "      <td>0.133303</td>\n",
       "      <td>0.169950</td>\n",
       "      <td>-0.129471</td>\n",
       "      <td>-0.012640</td>\n",
       "      <td>-0.225644</td>\n",
       "      <td>-0.089019</td>\n",
       "      <td>-0.175287</td>\n",
       "      <td>0.146856</td>\n",
       "      <td>0.189524</td>\n",
       "      <td>0.374265</td>\n",
       "      <td>0.202720</td>\n",
       "      <td>1.000000</td>\n",
       "      <td>0.277385</td>\n",
       "      <td>-0.157586</td>\n",
       "      <td>0.083958</td>\n",
       "      <td>0.248570</td>\n",
       "    </tr>\n",
       "    <tr>\n",
       "      <th>SHORTNESS OF BREATH</th>\n",
       "      <td>-0.064911</td>\n",
       "      <td>-0.017513</td>\n",
       "      <td>0.061264</td>\n",
       "      <td>-0.105944</td>\n",
       "      <td>-0.144077</td>\n",
       "      <td>-0.220175</td>\n",
       "      <td>-0.026459</td>\n",
       "      <td>0.441745</td>\n",
       "      <td>-0.030056</td>\n",
       "      <td>0.037834</td>\n",
       "      <td>-0.179416</td>\n",
       "      <td>0.277385</td>\n",
       "      <td>1.000000</td>\n",
       "      <td>-0.161015</td>\n",
       "      <td>0.024256</td>\n",
       "      <td>0.060738</td>\n",
       "    </tr>\n",
       "    <tr>\n",
       "      <th>SWALLOWING DIFFICULTY</th>\n",
       "      <td>-0.078161</td>\n",
       "      <td>-0.001270</td>\n",
       "      <td>0.030718</td>\n",
       "      <td>0.345904</td>\n",
       "      <td>0.489403</td>\n",
       "      <td>0.366590</td>\n",
       "      <td>0.075176</td>\n",
       "      <td>-0.132790</td>\n",
       "      <td>-0.061508</td>\n",
       "      <td>0.069027</td>\n",
       "      <td>-0.009294</td>\n",
       "      <td>-0.157586</td>\n",
       "      <td>-0.161015</td>\n",
       "      <td>1.000000</td>\n",
       "      <td>0.069027</td>\n",
       "      <td>0.259730</td>\n",
       "    </tr>\n",
       "    <tr>\n",
       "      <th>CHEST PAIN</th>\n",
       "      <td>0.362958</td>\n",
       "      <td>-0.018104</td>\n",
       "      <td>0.120117</td>\n",
       "      <td>-0.104829</td>\n",
       "      <td>-0.113634</td>\n",
       "      <td>-0.094828</td>\n",
       "      <td>-0.036938</td>\n",
       "      <td>-0.010832</td>\n",
       "      <td>0.239433</td>\n",
       "      <td>0.147640</td>\n",
       "      <td>0.331226</td>\n",
       "      <td>0.083958</td>\n",
       "      <td>0.024256</td>\n",
       "      <td>0.069027</td>\n",
       "      <td>1.000000</td>\n",
       "      <td>0.190451</td>\n",
       "    </tr>\n",
       "    <tr>\n",
       "      <th>LUNG_CANCER</th>\n",
       "      <td>0.067254</td>\n",
       "      <td>0.089465</td>\n",
       "      <td>0.058179</td>\n",
       "      <td>0.181339</td>\n",
       "      <td>0.144947</td>\n",
       "      <td>0.186388</td>\n",
       "      <td>0.110891</td>\n",
       "      <td>0.150673</td>\n",
       "      <td>0.327766</td>\n",
       "      <td>0.249300</td>\n",
       "      <td>0.288533</td>\n",
       "      <td>0.248570</td>\n",
       "      <td>0.060738</td>\n",
       "      <td>0.259730</td>\n",
       "      <td>0.190451</td>\n",
       "      <td>1.000000</td>\n",
       "    </tr>\n",
       "  </tbody>\n",
       "</table>\n",
       "</div>"
      ],
      "text/plain": [
       "                         GENDER       AGE   SMOKING  YELLOW_FINGERS   ANXIETY  \\\n",
       "GENDER                 1.000000  0.021306  0.036277       -0.212959 -0.152127   \n",
       "AGE                    0.021306  1.000000 -0.084475        0.005205  0.053170   \n",
       "SMOKING                0.036277 -0.084475  1.000000       -0.014585  0.160267   \n",
       "YELLOW_FINGERS        -0.212959  0.005205 -0.014585        1.000000  0.565829   \n",
       "ANXIETY               -0.152127  0.053170  0.160267        0.565829  1.000000   \n",
       "PEER_PRESSURE         -0.275564  0.018685 -0.042822        0.323083  0.216841   \n",
       "CHRONIC DISEASE       -0.204606 -0.012642 -0.141522        0.041122 -0.009678   \n",
       "FATIGUE               -0.083560  0.012614 -0.029575       -0.118058 -0.188538   \n",
       "ALLERGY                0.154251  0.027990  0.001913       -0.144300 -0.165750   \n",
       "WHEEZING               0.141207  0.055011 -0.129426       -0.078515 -0.191807   \n",
       "ALCOHOL CONSUMING      0.454268  0.058985 -0.050623       -0.289025 -0.165750   \n",
       "COUGHING               0.133303  0.169950 -0.129471       -0.012640 -0.225644   \n",
       "SHORTNESS OF BREATH   -0.064911 -0.017513  0.061264       -0.105944 -0.144077   \n",
       "SWALLOWING DIFFICULTY -0.078161 -0.001270  0.030718        0.345904  0.489403   \n",
       "CHEST PAIN             0.362958 -0.018104  0.120117       -0.104829 -0.113634   \n",
       "LUNG_CANCER            0.067254  0.089465  0.058179        0.181339  0.144947   \n",
       "\n",
       "                       PEER_PRESSURE  CHRONIC DISEASE  FATIGUE   ALLERGY   \\\n",
       "GENDER                     -0.275564        -0.204606 -0.083560  0.154251   \n",
       "AGE                         0.018685        -0.012642  0.012614  0.027990   \n",
       "SMOKING                    -0.042822        -0.141522 -0.029575  0.001913   \n",
       "YELLOW_FINGERS              0.323083         0.041122 -0.118058 -0.144300   \n",
       "ANXIETY                     0.216841        -0.009678 -0.188538 -0.165750   \n",
       "PEER_PRESSURE               1.000000         0.048515  0.078148 -0.081800   \n",
       "CHRONIC DISEASE             0.048515         1.000000 -0.110529  0.106386   \n",
       "FATIGUE                     0.078148        -0.110529  1.000000  0.003056   \n",
       "ALLERGY                    -0.081800         0.106386  0.003056  1.000000   \n",
       "WHEEZING                   -0.068771        -0.049967  0.141937  0.173867   \n",
       "ALCOHOL CONSUMING          -0.159973         0.002150 -0.191377  0.344339   \n",
       "COUGHING                   -0.089019        -0.175287  0.146856  0.189524   \n",
       "SHORTNESS OF BREATH        -0.220175        -0.026459  0.441745 -0.030056   \n",
       "SWALLOWING DIFFICULTY       0.366590         0.075176 -0.132790 -0.061508   \n",
       "CHEST PAIN                 -0.094828        -0.036938 -0.010832  0.239433   \n",
       "LUNG_CANCER                 0.186388         0.110891  0.150673  0.327766   \n",
       "\n",
       "                       WHEEZING  ALCOHOL CONSUMING  COUGHING  \\\n",
       "GENDER                 0.141207           0.454268  0.133303   \n",
       "AGE                    0.055011           0.058985  0.169950   \n",
       "SMOKING               -0.129426          -0.050623 -0.129471   \n",
       "YELLOW_FINGERS        -0.078515          -0.289025 -0.012640   \n",
       "ANXIETY               -0.191807          -0.165750 -0.225644   \n",
       "PEER_PRESSURE         -0.068771          -0.159973 -0.089019   \n",
       "CHRONIC DISEASE       -0.049967           0.002150 -0.175287   \n",
       "FATIGUE                0.141937          -0.191377  0.146856   \n",
       "ALLERGY                0.173867           0.344339  0.189524   \n",
       "WHEEZING               1.000000           0.265659  0.374265   \n",
       "ALCOHOL CONSUMING      0.265659           1.000000  0.202720   \n",
       "COUGHING               0.374265           0.202720  1.000000   \n",
       "SHORTNESS OF BREATH    0.037834          -0.179416  0.277385   \n",
       "SWALLOWING DIFFICULTY  0.069027          -0.009294 -0.157586   \n",
       "CHEST PAIN             0.147640           0.331226  0.083958   \n",
       "LUNG_CANCER            0.249300           0.288533  0.248570   \n",
       "\n",
       "                       SHORTNESS OF BREATH  SWALLOWING DIFFICULTY  CHEST PAIN  \\\n",
       "GENDER                           -0.064911              -0.078161    0.362958   \n",
       "AGE                              -0.017513              -0.001270   -0.018104   \n",
       "SMOKING                           0.061264               0.030718    0.120117   \n",
       "YELLOW_FINGERS                   -0.105944               0.345904   -0.104829   \n",
       "ANXIETY                          -0.144077               0.489403   -0.113634   \n",
       "PEER_PRESSURE                    -0.220175               0.366590   -0.094828   \n",
       "CHRONIC DISEASE                  -0.026459               0.075176   -0.036938   \n",
       "FATIGUE                           0.441745              -0.132790   -0.010832   \n",
       "ALLERGY                          -0.030056              -0.061508    0.239433   \n",
       "WHEEZING                          0.037834               0.069027    0.147640   \n",
       "ALCOHOL CONSUMING                -0.179416              -0.009294    0.331226   \n",
       "COUGHING                          0.277385              -0.157586    0.083958   \n",
       "SHORTNESS OF BREATH               1.000000              -0.161015    0.024256   \n",
       "SWALLOWING DIFFICULTY            -0.161015               1.000000    0.069027   \n",
       "CHEST PAIN                        0.024256               0.069027    1.000000   \n",
       "LUNG_CANCER                       0.060738               0.259730    0.190451   \n",
       "\n",
       "                       LUNG_CANCER  \n",
       "GENDER                    0.067254  \n",
       "AGE                       0.089465  \n",
       "SMOKING                   0.058179  \n",
       "YELLOW_FINGERS            0.181339  \n",
       "ANXIETY                   0.144947  \n",
       "PEER_PRESSURE             0.186388  \n",
       "CHRONIC DISEASE           0.110891  \n",
       "FATIGUE                   0.150673  \n",
       "ALLERGY                   0.327766  \n",
       "WHEEZING                  0.249300  \n",
       "ALCOHOL CONSUMING         0.288533  \n",
       "COUGHING                  0.248570  \n",
       "SHORTNESS OF BREATH       0.060738  \n",
       "SWALLOWING DIFFICULTY     0.259730  \n",
       "CHEST PAIN                0.190451  \n",
       "LUNG_CANCER               1.000000  "
      ]
     },
     "execution_count": 20,
     "metadata": {},
     "output_type": "execute_result"
    }
   ],
   "source": [
    "data.corr()"
   ]
  },
  {
   "cell_type": "code",
   "execution_count": 21,
   "id": "4a9409ae-2969-4885-87c6-04dedd677b21",
   "metadata": {},
   "outputs": [
    {
     "data": {
      "image/png": "[encoded data removed]",
      "text/plain": [
       "<Figure size 432x288 with 1 Axes>"
      ]
     },
     "metadata": {
      "needs_background": "light"
     },
     "output_type": "display_data"
    }
   ],
   "source": [
    "sns.barplot(x = \"LUNG_CANCER\", y = \"YELLOW_FINGERS\", data = data);"
   ]
  },
  {
   "cell_type": "code",
   "execution_count": 22,
   "id": "b992ea33-566c-4fb3-b69f-bfa2d79a3503",
   "metadata": {},
   "outputs": [
    {
     "data": {
      "image/png": "[encoded data removed]",
      "text/plain": [
       "<Figure size 432x288 with 1 Axes>"
      ]
     },
     "metadata": {
      "needs_background": "light"
     },
     "output_type": "display_data"
    }
   ],
   "source": [
    "sns.barplot(x = \"LUNG_CANCER\", y = \"PEER_PRESSURE\", data = data);"
   ]
  },
  {
   "cell_type": "code",
   "execution_count": 23,
   "id": "ebef4072-773e-4d30-8d9e-adb2e3a64fc5",
   "metadata": {},
   "outputs": [
    {
     "data": {
      "image/png": "[encoded data removed]",
      "text/plain": [
       "<Figure size 432x288 with 1 Axes>"
      ]
     },
     "metadata": {
      "needs_background": "light"
     },
     "output_type": "display_data"
    }
   ],
   "source": [
    "sns.barplot(x = \"LUNG_CANCER\", y = \"ALCOHOL CONSUMING\", data = data);"
   ]
  },
  {
   "cell_type": "code",
   "execution_count": 24,
   "id": "6db0d4b8-a3dc-483f-856f-d159e773f986",
   "metadata": {},
   "outputs": [
    {
     "data": {
      "image/png": "[encoded data removed]",
      "text/plain": [
       "<Figure size 432x288 with 1 Axes>"
      ]
     },
     "metadata": {
      "needs_background": "light"
     },
     "output_type": "display_data"
    }
   ],
   "source": [
    "sns.barplot(x = \"LUNG_CANCER\", y = \"SHORTNESS OF BREATH\", data = data);"
   ]
  },
  {
   "cell_type": "code",
   "execution_count": 25,
   "id": "3e25fa7a-0fce-494e-ab82-20b559c0853a",
   "metadata": {},
   "outputs": [
    {
     "data": {
      "image/png": "[encoded data removed]",
      "text/plain": [
       "<Figure size 432x288 with 1 Axes>"
      ]
     },
     "metadata": {
      "needs_background": "light"
     },
     "output_type": "display_data"
    }
   ],
   "source": [
    "sns.barplot(x = \"LUNG_CANCER\", y = \"SWALLOWING DIFFICULTY\", data = data);"
   ]
  },
  {
   "cell_type": "code",
   "execution_count": 26,
   "id": "f70c810d-b4a3-47a4-bbf1-846481b66a94",
   "metadata": {},
   "outputs": [
    {
     "data": {
      "image/png": "[encoded data removed]",
      "text/plain": [
       "<Figure size 720x720 with 16 Axes>"
      ]
     },
     "metadata": {
      "needs_background": "light"
     },
     "output_type": "display_data"
    }
   ],
   "source": [
    "data.hist(figsize = (10,10));"
   ]
  },
  {
   "cell_type": "code",
   "execution_count": 27,
   "id": "0243835b-43d4-4b5d-8bd5-4b9bcd6e098d",
   "metadata": {},
   "outputs": [],
   "source": [
    "from sklearn.preprocessing import scale \n",
    "from sklearn.model_selection import train_test_split, GridSearchCV, cross_val_score\n",
    "from sklearn.metrics import confusion_matrix, accuracy_score, classification_report\n",
    "from sklearn.metrics import roc_auc_score,roc_curve\n",
    "from lightgbm import LGBMClassifier\n",
    "\n",
    "from warnings import filterwarnings\n",
    "filterwarnings('ignore')"
   ]
  },
  {
   "cell_type": "code",
   "execution_count": 28,
   "id": "de4302ff-c77f-41a9-844d-9a9d8361f975",
   "metadata": {},
   "outputs": [],
   "source": [
    "y = data[\"LUNG_CANCER\"]\n",
    "X = data.drop(['LUNG_CANCER'], axis=1)\n",
    "X = pd.DataFrame(X)\n",
    "X_train, X_test, y_train, y_test = train_test_split(X, y, \n",
    "                                                    test_size=0.30, \n",
    "                                                    random_state=42)"
   ]
  },
  {
   "cell_type": "code",
   "execution_count": 29,
   "id": "dbdca85b-2bf8-46af-8412-6c1e252b9659",
   "metadata": {},
   "outputs": [],
   "source": [
    "lgbm_model = LGBMClassifier().fit(X_train, y_train)"
   ]
  },
  {
   "cell_type": "code",
   "execution_count": 30,
   "id": "06cff1f4-a77a-4642-9112-1b63a2ed5079",
   "metadata": {},
   "outputs": [
    {
     "data": {
      "text/plain": [
       "0.978494623655914"
      ]
     },
     "execution_count": 30,
     "metadata": {},
     "output_type": "execute_result"
    }
   ],
   "source": [
    "y_pred = lgbm_model.predict(X_test)\n",
    "accuracy_score(y_test, y_pred)"
   ]
  },
  {
   "cell_type": "code",
   "execution_count": 31,
   "id": "fbba0234-3066-4fc5-89d2-0d4b620847d8",
   "metadata": {},
   "outputs": [
    {
     "name": "stdout",
     "output_type": "stream",
     "text": [
      "              precision    recall  f1-score   support\n",
      "\n",
      "           0       1.00      0.71      0.83         7\n",
      "           1       0.98      1.00      0.99        86\n",
      "\n",
      "    accuracy                           0.98        93\n",
      "   macro avg       0.99      0.86      0.91        93\n",
      "weighted avg       0.98      0.98      0.98        93\n",
      "\n"
     ]
    }
   ],
   "source": [
    "print(classification_report(y_test, y_pred))"
   ]
  },
  {
   "cell_type": "code",
   "execution_count": 32,
   "id": "20042ccc-d537-411c-8ab8-84399f61bca4",
   "metadata": {},
   "outputs": [
    {
     "data": {
      "image/png": "[encoded data removed]",
      "text/plain": [
       "<Figure size 432x432 with 1 Axes>"
      ]
     },
     "metadata": {
      "needs_background": "light"
     },
     "output_type": "display_data"
    }
   ],
   "source": [
    "import matplotlib.pyplot as plt\n",
    "from sklearn.metrics import confusion_matrix, accuracy_score, classification_report\n",
    "\n",
    "def conf_matrix(y_test, y_pred):    \n",
    "    \n",
    "    # Karışıklık matrisi oluşturma\n",
    "    con_mat = confusion_matrix(y_test, y_pred)\n",
    "    con_mat = pd.DataFrame(con_mat, range(2), range(2))\n",
    "   \n",
    "    #Karışıklık matrisini çizme\n",
    "    plt.figure(figsize=(6,6))\n",
    "    sns.set(font_scale=1.5) \n",
    "    sns.heatmap(con_mat, annot=True, annot_kws={\"size\": 16}, fmt='g', cmap='Blues', cbar=False)\n",
    "#Karışıklık matrisini çizme\n",
    "conf_matrix(y_test, y_pred)"
   ]
  },
  {
   "cell_type": "code",
   "execution_count": 33,
   "id": "faf6fb37-aef4-4fd2-b910-b1912502ad60",
   "metadata": {},
   "outputs": [
    {
     "data": {
      "text/plain": [
       "LGBMClassifier()"
      ]
     },
     "execution_count": 33,
     "metadata": {},
     "output_type": "execute_result"
    }
   ],
   "source": [
    "lgbm_model"
   ]
  },
  {
   "cell_type": "code",
   "execution_count": 34,
   "id": "cbaee699-7a53-4dc1-ab1c-63c9349e9452",
   "metadata": {},
   "outputs": [],
   "source": [
    "lgbm_params = {\n",
    "        'n_estimators': [100, 500, 1000, 2000],\n",
    "        'subsample': [0.6, 0.8, 1.0],\n",
    "        'max_depth': [3, 4, 5,6],\n",
    "        'learning_rate': [0.1,0.01,0.02,0.05],\n",
    "        \"min_child_samples\": [5,10,20]}"
   ]
  },
  {
   "cell_type": "code",
   "execution_count": 35,
   "id": "845ba43f-de9c-46e1-b817-30d0dc5612c2",
   "metadata": {},
   "outputs": [],
   "source": [
    "lgbm = LGBMClassifier()\n",
    "\n",
    "lgbm_cv_model = GridSearchCV(lgbm, lgbm_params, \n",
    "                             cv = 4, \n",
    "                             n_jobs = -1, \n",
    "                             verbose = 2)"
   ]
  },
  {
   "cell_type": "code",
   "execution_count": 36,
   "id": "b64ea119-eaee-416d-b0bb-a94208db1e09",
   "metadata": {},
   "outputs": [
    {
     "name": "stdout",
     "output_type": "stream",
     "text": [
      "Fitting 4 folds for each of 576 candidates, totalling 2304 fits\n"
     ]
    },
    {
     "data": {
      "text/plain": [
       "GridSearchCV(cv=4, estimator=LGBMClassifier(), n_jobs=-1,\n",
       "             param_grid={'learning_rate': [0.1, 0.01, 0.02, 0.05],\n",
       "                         'max_depth': [3, 4, 5, 6],\n",
       "                         'min_child_samples': [5, 10, 20],\n",
       "                         'n_estimators': [100, 500, 1000, 2000],\n",
       "                         'subsample': [0.6, 0.8, 1.0]},\n",
       "             verbose=2)"
      ]
     },
     "execution_count": 36,
     "metadata": {},
     "output_type": "execute_result"
    }
   ],
   "source": [
    "lgbm_cv_model.fit(X_train, y_train)"
   ]
  },
  {
   "cell_type": "code",
   "execution_count": 37,
   "id": "f1b9c1bf-cd49-49d7-ab5f-84571418dfbd",
   "metadata": {},
   "outputs": [
    {
     "data": {
      "text/plain": [
       "{'learning_rate': 0.01,\n",
       " 'max_depth': 3,\n",
       " 'min_child_samples': 20,\n",
       " 'n_estimators': 500,\n",
       " 'subsample': 0.6}"
      ]
     },
     "execution_count": 37,
     "metadata": {},
     "output_type": "execute_result"
    }
   ],
   "source": [
    "lgbm_cv_model.best_params_"
   ]
  },
  {
   "cell_type": "code",
   "execution_count": 38,
   "id": "8c6b6ffa-9dd2-48af-a786-6dd5150f626f",
   "metadata": {},
   "outputs": [],
   "source": [
    "#class_weight = \"balanced\" yapmadığımız fitlediğimiz modeli inceleyelim"
   ]
  },
  {
   "cell_type": "code",
   "execution_count": 39,
   "id": "61cae8e0-93f5-4f55-ab2a-57f216165c2f",
   "metadata": {},
   "outputs": [],
   "source": [
    "lgbm = LGBMClassifier(learning_rate = 0.01, \n",
    "                       max_depth = 3,\n",
    "                       subsample = 0.6,\n",
    "                       n_estimators = 500,\n",
    "                       min_child_samples = 20)"
   ]
  },
  {
   "cell_type": "code",
   "execution_count": 40,
   "id": "573b2cae-2671-432c-8a9a-3a726d19ec54",
   "metadata": {},
   "outputs": [],
   "source": [
    "lgbm_tuned = lgbm.fit(X_train,y_train)"
   ]
  },
  {
   "cell_type": "code",
   "execution_count": 41,
   "id": "9f6873f2-845c-4182-9e46-4d310249046b",
   "metadata": {},
   "outputs": [
    {
     "data": {
      "text/plain": [
       "0.967741935483871"
      ]
     },
     "execution_count": 41,
     "metadata": {},
     "output_type": "execute_result"
    }
   ],
   "source": [
    "y_pred = lgbm_tuned.predict(X_test)\n",
    "accuracy_score(y_test, y_pred)"
   ]
  },
  {
   "cell_type": "code",
   "execution_count": 42,
   "id": "68887b4b-95da-4035-aafc-4df568ca112e",
   "metadata": {},
   "outputs": [
    {
     "name": "stdout",
     "output_type": "stream",
     "text": [
      "              precision    recall  f1-score   support\n",
      "\n",
      "           0       0.83      0.71      0.77         7\n",
      "           1       0.98      0.99      0.98        86\n",
      "\n",
      "    accuracy                           0.97        93\n",
      "   macro avg       0.91      0.85      0.88        93\n",
      "weighted avg       0.97      0.97      0.97        93\n",
      "\n"
     ]
    }
   ],
   "source": [
    "print(classification_report(y_test, y_pred))"
   ]
  },
  {
   "cell_type": "code",
   "execution_count": 43,
   "id": "9b72567a-4738-47b5-b9f6-05ceaaa22330",
   "metadata": {},
   "outputs": [
    {
     "data": {
      "image/png": "[encoded data removed]",
      "text/plain": [
       "<Figure size 432x432 with 1 Axes>"
      ]
     },
     "metadata": {},
     "output_type": "display_data"
    }
   ],
   "source": [
    "import matplotlib.pyplot as plt\n",
    "from sklearn.metrics import confusion_matrix, accuracy_score, classification_report\n",
    "\n",
    "def conf_matrix(y_test, y_pred):    \n",
    "    \n",
    "    # Karışıklık matrisi oluşturma\n",
    "    con_mat = confusion_matrix(y_test, y_pred)\n",
    "    con_mat = pd.DataFrame(con_mat, range(2), range(2))\n",
    "   \n",
    "    #Karışıklık matrisini çizme\n",
    "    plt.figure(figsize=(6,6))\n",
    "    sns.set(font_scale=1.5) \n",
    "    sns.heatmap(con_mat, annot=True, annot_kws={\"size\": 16}, fmt='g', cmap='Blues', cbar=False)\n",
    "#Karışıklık matrisini çizme\n",
    "conf_matrix(y_test, y_pred)"
   ]
  },
  {
   "cell_type": "code",
   "execution_count": 44,
   "id": "5f01276b-e881-472f-a140-da2c404ccec5",
   "metadata": {},
   "outputs": [],
   "source": [
    "#class_weight = \"balanced\" yaparak modelimizi inceleyelim"
   ]
  },
  {
   "cell_type": "code",
   "execution_count": 45,
   "id": "065712b1-fcc6-4284-babb-30a6be2690fe",
   "metadata": {},
   "outputs": [],
   "source": [
    "lgbm = LGBMClassifier(learning_rate = 0.01, \n",
    "                       max_depth = 3,\n",
    "                       subsample = 0.6,\n",
    "                       n_estimators = 500,\n",
    "                       min_child_samples = 20,\n",
    "                       class_weight = \"balanced\" )"
   ]
  },
  {
   "cell_type": "code",
   "execution_count": 46,
   "id": "d2dc98ed-ec59-4138-9a19-840672a9a818",
   "metadata": {},
   "outputs": [],
   "source": [
    "lgbm_tuned = lgbm.fit(X_train,y_train)"
   ]
  },
  {
   "cell_type": "code",
   "execution_count": 47,
   "id": "aec0b0b3-87be-48a0-a28a-4f8262816610",
   "metadata": {},
   "outputs": [
    {
     "data": {
      "text/plain": [
       "0.9139784946236559"
      ]
     },
     "execution_count": 47,
     "metadata": {},
     "output_type": "execute_result"
    }
   ],
   "source": [
    "y_pred = lgbm_tuned.predict(X_test)\n",
    "accuracy_score(y_test, y_pred)"
   ]
  },
  {
   "cell_type": "code",
   "execution_count": 48,
   "id": "3c6df257-f32d-4e4d-ae27-7cebf01b080e",
   "metadata": {},
   "outputs": [
    {
     "name": "stdout",
     "output_type": "stream",
     "text": [
      "              precision    recall  f1-score   support\n",
      "\n",
      "           0       0.46      0.86      0.60         7\n",
      "           1       0.99      0.92      0.95        86\n",
      "\n",
      "    accuracy                           0.91        93\n",
      "   macro avg       0.72      0.89      0.78        93\n",
      "weighted avg       0.95      0.91      0.93        93\n",
      "\n"
     ]
    }
   ],
   "source": [
    "print(classification_report(y_test, y_pred))"
   ]
  },
  {
   "cell_type": "code",
   "execution_count": 49,
   "id": "df790719-1a8d-4dd9-99f1-4bf4c96abe59",
   "metadata": {},
   "outputs": [
    {
     "data": {
      "image/png": "[encoded data removed]",
      "text/plain": [
       "<Figure size 432x432 with 1 Axes>"
      ]
     },
     "metadata": {},
     "output_type": "display_data"
    }
   ],
   "source": [
    "import matplotlib.pyplot as plt\n",
    "from sklearn.metrics import confusion_matrix, accuracy_score, classification_report\n",
    "\n",
    "def conf_matrix(y_test, y_pred):    \n",
    "    \n",
    "    # Karışıklık matrisi oluşturma\n",
    "    con_mat = confusion_matrix(y_test, y_pred)\n",
    "    con_mat = pd.DataFrame(con_mat, range(2), range(2))\n",
    "   \n",
    "    #Karışıklık matrisini çizme\n",
    "    plt.figure(figsize=(6,6))\n",
    "    sns.set(font_scale=1.5) \n",
    "    sns.heatmap(con_mat, annot=True, annot_kws={\"size\": 16}, fmt='g', cmap='Blues', cbar=False)\n",
    "#Karışıklık matrisini çizme\n",
    "conf_matrix(y_test, y_pred)"
   ]
  },
  {
   "cell_type": "code",
   "execution_count": 50,
   "id": "a872bc61-bff3-4f19-90a3-cfa9416b95ff",
   "metadata": {},
   "outputs": [],
   "source": [
    "# azınlık durumunda bulunan \"0\" ı daha iyi bir hale getirebilmek için \"1\" in başarısından alınmış"
   ]
  },
  {
   "cell_type": "code",
   "execution_count": null,
   "id": "7631650e-c01e-42b5-8c9f-5b1f7beaf010",
   "metadata": {},
   "outputs": [],
   "source": []
  }
 ],
 "metadata": {
  "kernelspec": {
   "display_name": "Python 3",
   "language": "python",
   "name": "python3"
  },
  "language_info": {
   "codemirror_mode": {
    "name": "ipython",
    "version": 3
   },
   "file_extension": ".py",
   "mimetype": "text/x-python",
   "name": "python",
   "nbconvert_exporter": "python",
   "pygments_lexer": "ipython3",
   "version": "3.8.8"
  }
 },
 "nbformat": 4,
 "nbformat_minor": 5
}
